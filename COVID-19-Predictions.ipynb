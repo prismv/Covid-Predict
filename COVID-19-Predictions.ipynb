{
 "cells": [
  {
   "cell_type": "code",
   "execution_count": 1,
   "metadata": {},
   "outputs": [
    {
     "data": {
      "text/html": [
       "<div>\n",
       "<style scoped>\n",
       "    .dataframe tbody tr th:only-of-type {\n",
       "        vertical-align: middle;\n",
       "    }\n",
       "\n",
       "    .dataframe tbody tr th {\n",
       "        vertical-align: top;\n",
       "    }\n",
       "\n",
       "    .dataframe thead th {\n",
       "        text-align: right;\n",
       "    }\n",
       "</style>\n",
       "<table border=\"1\" class=\"dataframe\">\n",
       "  <thead>\n",
       "    <tr style=\"text-align: right;\">\n",
       "      <th></th>\n",
       "      <th>day</th>\n",
       "      <th>cases</th>\n",
       "    </tr>\n",
       "  </thead>\n",
       "  <tbody>\n",
       "    <tr>\n",
       "      <th>69</th>\n",
       "      <td>2020-04-24</td>\n",
       "      <td>154999</td>\n",
       "    </tr>\n",
       "    <tr>\n",
       "      <th>70</th>\n",
       "      <td>2020-04-25</td>\n",
       "      <td>156513</td>\n",
       "    </tr>\n",
       "    <tr>\n",
       "      <th>71</th>\n",
       "      <td>2020-04-26</td>\n",
       "      <td>157770</td>\n",
       "    </tr>\n",
       "  </tbody>\n",
       "</table>\n",
       "</div>"
      ],
      "text/plain": [
       "          day   cases\n",
       "69 2020-04-24  154999\n",
       "70 2020-04-25  156513\n",
       "71 2020-04-26  157770"
      ]
     },
     "execution_count": 1,
     "metadata": {},
     "output_type": "execute_result"
    }
   ],
   "source": [
    "from scipy.optimize import curve_fit\n",
    "import datetime as dt\n",
    "import pandas as pd\n",
    "import numpy as np\n",
    "import altair as alt\n",
    "\n",
    "data = pd.read_csv(\"corona_infections.csv\", header=0, names=[\"day\", \"cases\"])\n",
    "data[\"day\"] = [dt.datetime.strptime(d + ' 2020', \"%b %d %Y\") for d in data[\"day\"]]\n",
    "data.tail(3)"
   ]
  },
  {
   "cell_type": "code",
   "execution_count": 2,
   "metadata": {},
   "outputs": [
    {
     "data": {
      "text/html": [
       "\n",
       "<div id=\"altair-viz-498fcfa8a46b4714baac6931208c057b\"></div>\n",
       "<script type=\"text/javascript\">\n",
       "  (function(spec, embedOpt){\n",
       "    const outputDiv = document.getElementById(\"altair-viz-498fcfa8a46b4714baac6931208c057b\");\n",
       "    const paths = {\n",
       "      \"vega\": \"https://cdn.jsdelivr.net/npm//vega@5?noext\",\n",
       "      \"vega-lib\": \"https://cdn.jsdelivr.net/npm//vega-lib?noext\",\n",
       "      \"vega-lite\": \"https://cdn.jsdelivr.net/npm//vega-lite@4.0.2?noext\",\n",
       "      \"vega-embed\": \"https://cdn.jsdelivr.net/npm//vega-embed@6?noext\",\n",
       "    };\n",
       "\n",
       "    function loadScript(lib) {\n",
       "      return new Promise(function(resolve, reject) {\n",
       "        var s = document.createElement('script');\n",
       "        s.src = paths[lib];\n",
       "        s.async = true;\n",
       "        s.onload = () => resolve(paths[lib]);\n",
       "        s.onerror = () => reject(`Error loading script: ${paths[lib]}`);\n",
       "        document.getElementsByTagName(\"head\")[0].appendChild(s);\n",
       "      });\n",
       "    }\n",
       "\n",
       "    function showError(err) {\n",
       "      outputDiv.innerHTML = `<div class=\"error\" style=\"color:red;\">${err}</div>`;\n",
       "      throw err;\n",
       "    }\n",
       "\n",
       "    function displayChart(vegaEmbed) {\n",
       "      vegaEmbed(outputDiv, spec, embedOpt)\n",
       "        .catch(err => showError(`Javascript Error: ${err.message}<br>This usually means there's a typo in your chart specification. See the javascript console for the full traceback.`));\n",
       "    }\n",
       "\n",
       "    if(typeof define === \"function\" && define.amd) {\n",
       "      requirejs.config({paths});\n",
       "      require([\"vega-embed\"], displayChart, err => showError(`Error loading script: ${err.message}`));\n",
       "    } else if (typeof vegaEmbed === \"function\") {\n",
       "      displayChart(vegaEmbed);\n",
       "    } else {\n",
       "      loadScript(\"vega\")\n",
       "        .then(() => loadScript(\"vega-lite\"))\n",
       "        .then(() => loadScript(\"vega-embed\"))\n",
       "        .catch(showError)\n",
       "        .then(() => displayChart(vegaEmbed));\n",
       "    }\n",
       "  })({\"config\": {\"view\": {\"continuousWidth\": 400, \"continuousHeight\": 300}}, \"data\": {\"name\": \"data-f1cd4ab57f52cdcadaa6679fef7cf4ed\"}, \"mark\": {\"type\": \"line\", \"point\": true}, \"encoding\": {\"x\": {\"type\": \"ordinal\", \"field\": \"day\", \"timeUnit\": \"monthdate\", \"title\": \"Tag\"}, \"y\": {\"type\": \"quantitative\", \"field\": \"cases\", \"title\": \"Corona-Fallzahlen\"}}, \"height\": 300, \"width\": 850, \"$schema\": \"https://vega.github.io/schema/vega-lite/v4.0.2.json\", \"datasets\": {\"data-f1cd4ab57f52cdcadaa6679fef7cf4ed\": [{\"day\": \"2020-02-15T00:00:00\", \"cases\": 16}, {\"day\": \"2020-02-16T00:00:00\", \"cases\": 16}, {\"day\": \"2020-02-17T00:00:00\", \"cases\": 16}, {\"day\": \"2020-02-18T00:00:00\", \"cases\": 16}, {\"day\": \"2020-02-19T00:00:00\", \"cases\": 16}, {\"day\": \"2020-02-20T00:00:00\", \"cases\": 16}, {\"day\": \"2020-02-21T00:00:00\", \"cases\": 16}, {\"day\": \"2020-02-22T00:00:00\", \"cases\": 16}, {\"day\": \"2020-02-23T00:00:00\", \"cases\": 16}, {\"day\": \"2020-02-24T00:00:00\", \"cases\": 16}, {\"day\": \"2020-02-25T00:00:00\", \"cases\": 18}, {\"day\": \"2020-02-26T00:00:00\", \"cases\": 26}, {\"day\": \"2020-02-27T00:00:00\", \"cases\": 48}, {\"day\": \"2020-02-28T00:00:00\", \"cases\": 74}, {\"day\": \"2020-02-29T00:00:00\", \"cases\": 79}, {\"day\": \"2020-03-01T00:00:00\", \"cases\": 130}, {\"day\": \"2020-03-02T00:00:00\", \"cases\": 165}, {\"day\": \"2020-03-03T00:00:00\", \"cases\": 203}, {\"day\": \"2020-03-04T00:00:00\", \"cases\": 262}, {\"day\": \"2020-03-05T00:00:00\", \"cases\": 545}, {\"day\": \"2020-03-06T00:00:00\", \"cases\": 670}, {\"day\": \"2020-03-07T00:00:00\", \"cases\": 800}, {\"day\": \"2020-03-08T00:00:00\", \"cases\": 1040}, {\"day\": \"2020-03-09T00:00:00\", \"cases\": 1224}, {\"day\": \"2020-03-10T00:00:00\", \"cases\": 1565}, {\"day\": \"2020-03-11T00:00:00\", \"cases\": 1966}, {\"day\": \"2020-03-12T00:00:00\", \"cases\": 2745}, {\"day\": \"2020-03-13T00:00:00\", \"cases\": 3675}, {\"day\": \"2020-03-14T00:00:00\", \"cases\": 4599}, {\"day\": \"2020-03-15T00:00:00\", \"cases\": 5813}, {\"day\": \"2020-03-16T00:00:00\", \"cases\": 7272}, {\"day\": \"2020-03-17T00:00:00\", \"cases\": 9367}, {\"day\": \"2020-03-18T00:00:00\", \"cases\": 12327}, {\"day\": \"2020-03-19T00:00:00\", \"cases\": 15320}, {\"day\": \"2020-03-20T00:00:00\", \"cases\": 19848}, {\"day\": \"2020-03-21T00:00:00\", \"cases\": 22364}, {\"day\": \"2020-03-22T00:00:00\", \"cases\": 24873}, {\"day\": \"2020-03-23T00:00:00\", \"cases\": 29056}, {\"day\": \"2020-03-24T00:00:00\", \"cases\": 32991}, {\"day\": \"2020-03-25T00:00:00\", \"cases\": 37323}, {\"day\": \"2020-03-26T00:00:00\", \"cases\": 43938}, {\"day\": \"2020-03-27T00:00:00\", \"cases\": 50871}, {\"day\": \"2020-03-28T00:00:00\", \"cases\": 57695}, {\"day\": \"2020-03-29T00:00:00\", \"cases\": 62435}, {\"day\": \"2020-03-30T00:00:00\", \"cases\": 66885}, {\"day\": \"2020-03-31T00:00:00\", \"cases\": 71808}, {\"day\": \"2020-04-01T00:00:00\", \"cases\": 77981}, {\"day\": \"2020-04-02T00:00:00\", \"cases\": 84794}, {\"day\": \"2020-04-03T00:00:00\", \"cases\": 91159}, {\"day\": \"2020-04-04T00:00:00\", \"cases\": 96092}, {\"day\": \"2020-04-05T00:00:00\", \"cases\": 100123}, {\"day\": \"2020-04-06T00:00:00\", \"cases\": 103375}, {\"day\": \"2020-04-07T00:00:00\", \"cases\": 107663}, {\"day\": \"2020-04-08T00:00:00\", \"cases\": 113296}, {\"day\": \"2020-04-09T00:00:00\", \"cases\": 118235}, {\"day\": \"2020-04-10T00:00:00\", \"cases\": 122171}, {\"day\": \"2020-04-11T00:00:00\", \"cases\": 125452}, {\"day\": \"2020-04-12T00:00:00\", \"cases\": 127854}, {\"day\": \"2020-04-13T00:00:00\", \"cases\": 130072}, {\"day\": \"2020-04-14T00:00:00\", \"cases\": 132210}, {\"day\": \"2020-04-15T00:00:00\", \"cases\": 134753}, {\"day\": \"2020-04-16T00:00:00\", \"cases\": 137698}, {\"day\": \"2020-04-17T00:00:00\", \"cases\": 141397}, {\"day\": \"2020-04-18T00:00:00\", \"cases\": 143724}, {\"day\": \"2020-04-19T00:00:00\", \"cases\": 145742}, {\"day\": \"2020-04-20T00:00:00\", \"cases\": 147065}, {\"day\": \"2020-04-21T00:00:00\", \"cases\": 148453}, {\"day\": \"2020-04-22T00:00:00\", \"cases\": 150648}, {\"day\": \"2020-04-23T00:00:00\", \"cases\": 153129}, {\"day\": \"2020-04-24T00:00:00\", \"cases\": 154999}, {\"day\": \"2020-04-25T00:00:00\", \"cases\": 156513}, {\"day\": \"2020-04-26T00:00:00\", \"cases\": 157770}]}}, {\"mode\": \"vega-lite\"});\n",
       "</script>"
      ],
      "text/plain": [
       "alt.Chart(...)"
      ]
     },
     "execution_count": 2,
     "metadata": {},
     "output_type": "execute_result"
    }
   ],
   "source": [
    "infections = alt.Chart(data).mark_line(point=True).encode(\n",
    "    alt.X(\"monthdate(day):O\", title=\"Tag\"),\n",
    "    alt.Y(\"cases:Q\", title=\"Corona-Fallzahlen\"))\n",
    "infections.properties(width=850, height=300)"
   ]
  },
  {
   "cell_type": "code",
   "execution_count": 3,
   "metadata": {},
   "outputs": [
    {
     "name": "stdout",
     "output_type": "stream",
     "text": [
      "[737512 737513 737514 737515 737516 737517 737518 737519 737520 737521\n",
      " 737522 737523 737524 737525 737526 737527 737528 737529 737530 737531\n",
      " 737532 737533 737534 737535 737536 737537 737538 737539 737540 737541]\n",
      "[ 57695  62435  66885  71808  77981  84794  91159  96092 100123 103375\n",
      " 107663 113296 118235 122171 125452 127854 130072 132210 134753 137698\n",
      " 141397 143724 145742 147065 148453 150648 153129 154999 156513 157770]\n"
     ]
    }
   ],
   "source": [
    "first_day_with_quarantine_effect = dt.datetime(year=2020, month=3, day=28)\n",
    "cases_since_quarantine = np.array(\n",
    "    data[data[\"day\"] >= first_day_with_quarantine_effect][\"cases\"])\n",
    "day_no_since_quarantine = np.array(\n",
    "    [d.toordinal() for d in data[data[\"day\"] >= first_day_with_quarantine_effect][\"day\"]])\n",
    "print(day_no_since_quarantine)\n",
    "print(cases_since_quarantine)"
   ]
  },
  {
   "cell_type": "code",
   "execution_count": 4,
   "metadata": {},
   "outputs": [
    {
     "name": "stdout",
     "output_type": "stream",
     "text": [
      "mins: [0, 737512, 1e-12, 157770]\n",
      "maxs: [157770, 737942, 100.0, 83500000.0]\n",
      "[5.76889717e+04 7.37512086e+05 2.65712934e-09 2.02720125e+07]\n"
     ]
    }
   ],
   "source": [
    "def corona_curve(x, b0, x0, k, s):\n",
    "    return s * 1 / (1 + np.exp(-1 * k * s * (x - x0)) * (s / b0 - 1))\n",
    "\n",
    "print(\"mins:\", [0, day_no_since_quarantine[0], 1e-12, cases_since_quarantine[-1]])\n",
    "print(\"maxs:\", [cases_since_quarantine[-1], dt.datetime(year=2021, month=6, day=1).toordinal(), 1e2, 8.35e7])\n",
    "\n",
    "params, _ = curve_fit(\n",
    "    corona_curve, \n",
    "    xdata=day_no_since_quarantine, \n",
    "    ydata=cases_since_quarantine, \n",
    "    p0=[cases_since_quarantine[0], dt.datetime(year=2020, month=3, day=28).toordinal(), 8e-9, 5.6e7],\n",
    "    bounds=(\n",
    "        [0, day_no_since_quarantine[0], 1e-11, cases_since_quarantine[-1]], \n",
    "        [cases_since_quarantine[-1], dt.datetime(year=2021, month=6, day=1).toordinal(), 1e-8, 8.35e7])\n",
    ")\n",
    "print(params)"
   ]
  },
  {
   "cell_type": "code",
   "execution_count": 5,
   "metadata": {},
   "outputs": [
    {
     "data": {
      "text/html": [
       "<div>\n",
       "<style scoped>\n",
       "    .dataframe tbody tr th:only-of-type {\n",
       "        vertical-align: middle;\n",
       "    }\n",
       "\n",
       "    .dataframe tbody tr th {\n",
       "        vertical-align: top;\n",
       "    }\n",
       "\n",
       "    .dataframe thead th {\n",
       "        text-align: right;\n",
       "    }\n",
       "</style>\n",
       "<table border=\"1\" class=\"dataframe\">\n",
       "  <thead>\n",
       "    <tr style=\"text-align: right;\">\n",
       "      <th></th>\n",
       "      <th>day</th>\n",
       "      <th>curve</th>\n",
       "    </tr>\n",
       "  </thead>\n",
       "  <tbody>\n",
       "    <tr>\n",
       "      <th>0</th>\n",
       "      <td>2020-03-01</td>\n",
       "      <td>13440.544414</td>\n",
       "    </tr>\n",
       "    <tr>\n",
       "      <th>1</th>\n",
       "      <td>2020-03-02</td>\n",
       "      <td>14183.857308</td>\n",
       "    </tr>\n",
       "    <tr>\n",
       "      <th>2</th>\n",
       "      <td>2020-03-03</td>\n",
       "      <td>14968.247840</td>\n",
       "    </tr>\n",
       "    <tr>\n",
       "      <th>3</th>\n",
       "      <td>2020-03-04</td>\n",
       "      <td>15795.982629</td>\n",
       "    </tr>\n",
       "    <tr>\n",
       "      <th>4</th>\n",
       "      <td>2020-03-05</td>\n",
       "      <td>16669.452969</td>\n",
       "    </tr>\n",
       "    <tr>\n",
       "      <th>...</th>\n",
       "      <td>...</td>\n",
       "      <td>...</td>\n",
       "    </tr>\n",
       "    <tr>\n",
       "      <th>62</th>\n",
       "      <td>2020-05-02</td>\n",
       "      <td>372429.911440</td>\n",
       "    </tr>\n",
       "    <tr>\n",
       "      <th>63</th>\n",
       "      <td>2020-05-03</td>\n",
       "      <td>392641.902447</td>\n",
       "    </tr>\n",
       "    <tr>\n",
       "      <th>64</th>\n",
       "      <td>2020-05-04</td>\n",
       "      <td>413927.993344</td>\n",
       "    </tr>\n",
       "    <tr>\n",
       "      <th>65</th>\n",
       "      <td>2020-05-05</td>\n",
       "      <td>436342.726866</td>\n",
       "    </tr>\n",
       "    <tr>\n",
       "      <th>66</th>\n",
       "      <td>2020-05-06</td>\n",
       "      <td>459943.133927</td>\n",
       "    </tr>\n",
       "  </tbody>\n",
       "</table>\n",
       "<p>67 rows × 2 columns</p>\n",
       "</div>"
      ],
      "text/plain": [
       "          day          curve\n",
       "0  2020-03-01   13440.544414\n",
       "1  2020-03-02   14183.857308\n",
       "2  2020-03-03   14968.247840\n",
       "3  2020-03-04   15795.982629\n",
       "4  2020-03-05   16669.452969\n",
       "..        ...            ...\n",
       "62 2020-05-02  372429.911440\n",
       "63 2020-05-03  392641.902447\n",
       "64 2020-05-04  413927.993344\n",
       "65 2020-05-05  436342.726866\n",
       "66 2020-05-06  459943.133927\n",
       "\n",
       "[67 rows x 2 columns]"
      ]
     },
     "execution_count": 5,
     "metadata": {},
     "output_type": "execute_result"
    }
   ],
   "source": [
    "data = data[data[\"day\"] >= dt.datetime(year=2020, month=3, day=1)]\n",
    "projection_data = data.copy()\n",
    "projection_data = projection_data.drop([\"cases\"], axis=1)\n",
    "projection_data[\"curve\"] = [corona_curve(d.toordinal(), *params) for d in projection_data[\"day\"]]\n",
    "for i in range(10):\n",
    "    projection_data = projection_data.append(pd.DataFrame(\n",
    "        [[list(projection_data[\"day\"])[-1] + dt.timedelta(days=1), \n",
    "          corona_curve((list(projection_data[\"day\"])[-1] + dt.timedelta(days=1)).toordinal(), *params)]],\n",
    "        columns=(\"day\", \"curve\")\n",
    "    ), ignore_index=True)\n",
    "projection_data"
   ]
  },
  {
   "cell_type": "code",
   "execution_count": 6,
   "metadata": {},
   "outputs": [
    {
     "data": {
      "text/html": [
       "\n",
       "<div id=\"altair-viz-d703a682326e4aefa09a3a9c9b791ea5\"></div>\n",
       "<script type=\"text/javascript\">\n",
       "  (function(spec, embedOpt){\n",
       "    const outputDiv = document.getElementById(\"altair-viz-d703a682326e4aefa09a3a9c9b791ea5\");\n",
       "    const paths = {\n",
       "      \"vega\": \"https://cdn.jsdelivr.net/npm//vega@5?noext\",\n",
       "      \"vega-lib\": \"https://cdn.jsdelivr.net/npm//vega-lib?noext\",\n",
       "      \"vega-lite\": \"https://cdn.jsdelivr.net/npm//vega-lite@4.0.2?noext\",\n",
       "      \"vega-embed\": \"https://cdn.jsdelivr.net/npm//vega-embed@6?noext\",\n",
       "    };\n",
       "\n",
       "    function loadScript(lib) {\n",
       "      return new Promise(function(resolve, reject) {\n",
       "        var s = document.createElement('script');\n",
       "        s.src = paths[lib];\n",
       "        s.async = true;\n",
       "        s.onload = () => resolve(paths[lib]);\n",
       "        s.onerror = () => reject(`Error loading script: ${paths[lib]}`);\n",
       "        document.getElementsByTagName(\"head\")[0].appendChild(s);\n",
       "      });\n",
       "    }\n",
       "\n",
       "    function showError(err) {\n",
       "      outputDiv.innerHTML = `<div class=\"error\" style=\"color:red;\">${err}</div>`;\n",
       "      throw err;\n",
       "    }\n",
       "\n",
       "    function displayChart(vegaEmbed) {\n",
       "      vegaEmbed(outputDiv, spec, embedOpt)\n",
       "        .catch(err => showError(`Javascript Error: ${err.message}<br>This usually means there's a typo in your chart specification. See the javascript console for the full traceback.`));\n",
       "    }\n",
       "\n",
       "    if(typeof define === \"function\" && define.amd) {\n",
       "      requirejs.config({paths});\n",
       "      require([\"vega-embed\"], displayChart, err => showError(`Error loading script: ${err.message}`));\n",
       "    } else if (typeof vegaEmbed === \"function\") {\n",
       "      displayChart(vegaEmbed);\n",
       "    } else {\n",
       "      loadScript(\"vega\")\n",
       "        .then(() => loadScript(\"vega-lite\"))\n",
       "        .then(() => loadScript(\"vega-embed\"))\n",
       "        .catch(showError)\n",
       "        .then(() => displayChart(vegaEmbed));\n",
       "    }\n",
       "  })({\"config\": {\"view\": {\"continuousWidth\": 400, \"continuousHeight\": 300}}, \"layer\": [{\"data\": {\"name\": \"data-642b78efceca4fb404f361c935ef31c8\"}, \"mark\": {\"type\": \"line\", \"point\": false}, \"encoding\": {\"x\": {\"type\": \"ordinal\", \"field\": \"day\", \"timeUnit\": \"monthdate\", \"title\": \"Tag\"}, \"y\": {\"type\": \"quantitative\", \"field\": \"curve\", \"title\": \"Fallzahlen (Projektion)\"}}}, {\"data\": {\"name\": \"data-6f2e19419a0162177a1759a427a3b074\"}, \"mark\": {\"type\": \"line\", \"color\": \"red\", \"point\": true}, \"encoding\": {\"x\": {\"type\": \"ordinal\", \"field\": \"day\", \"timeUnit\": \"monthdate\", \"title\": \"Tag\"}, \"y\": {\"type\": \"quantitative\", \"field\": \"cases\", \"title\": \"Corona-Fallzahlen\"}}}], \"height\": 400, \"width\": 600, \"$schema\": \"https://vega.github.io/schema/vega-lite/v4.0.2.json\", \"datasets\": {\"data-642b78efceca4fb404f361c935ef31c8\": [{\"day\": \"2020-03-01T00:00:00\", \"curve\": 13440.544414407905}, {\"day\": \"2020-03-02T00:00:00\", \"curve\": 14183.85730777587}, {\"day\": \"2020-03-03T00:00:00\", \"curve\": 14968.247839809741}, {\"day\": \"2020-03-04T00:00:00\", \"curve\": 15795.982628598731}, {\"day\": \"2020-03-05T00:00:00\", \"curve\": 16669.452969370916}, {\"day\": \"2020-03-06T00:00:00\", \"curve\": 17591.181647863497}, {\"day\": \"2020-03-07T00:00:00\", \"curve\": 18563.830120955638}, {\"day\": \"2020-03-08T00:00:00\", \"curve\": 19590.206083780515}, {\"day\": \"2020-03-09T00:00:00\", \"curve\": 20673.271443472644}, {\"day\": \"2020-03-10T00:00:00\", \"curve\": 21816.1507206824}, {\"day\": \"2020-03-11T00:00:00\", \"curve\": 23022.13990100564}, {\"day\": \"2020-03-12T00:00:00\", \"curve\": 24294.715759529834}, {\"day\": \"2020-03-13T00:00:00\", \"curve\": 25637.545682791875}, {\"day\": \"2020-03-14T00:00:00\", \"curve\": 27054.49801357506}, {\"day\": \"2020-03-15T00:00:00\", \"curve\": 28549.652945144306}, {\"day\": \"2020-03-16T00:00:00\", \"curve\": 30127.313992729134}, {\"day\": \"2020-03-17T00:00:00\", \"curve\": 31792.020071311617}, {\"day\": \"2020-03-18T00:00:00\", \"curve\": 33548.558210061776}, {\"day\": \"2020-03-19T00:00:00\", \"curve\": 35401.976935082675}, {\"day\": \"2020-03-20T00:00:00\", \"curve\": 37357.60035348096}, {\"day\": \"2020-03-21T00:00:00\", \"curve\": 39421.04297316299}, {\"day\": \"2020-03-22T00:00:00\", \"curve\": 41598.22529416826}, {\"day\": \"2020-03-23T00:00:00\", \"curve\": 43895.39020878804}, {\"day\": \"2020-03-24T00:00:00\", \"curve\": 46319.120249172316}, {\"day\": \"2020-03-25T00:00:00\", \"curve\": 48876.355722597356}, {\"day\": \"2020-03-26T00:00:00\", \"curve\": 51574.41377604324}, {\"day\": \"2020-03-27T00:00:00\", \"curve\": 54421.00843320796}, {\"day\": \"2020-03-28T00:00:00\", \"curve\": 57424.271648552916}, {\"day\": \"2020-03-29T00:00:00\", \"curve\": 60592.7754244252}, {\"day\": \"2020-03-30T00:00:00\", \"curve\": 63935.55503872127}, {\"day\": \"2020-03-31T00:00:00\", \"curve\": 67462.13343193344}, {\"day\": \"2020-04-01T00:00:00\", \"curve\": 71182.54680373787}, {\"day\": \"2020-04-02T00:00:00\", \"curve\": 75107.37147052443}, {\"day\": \"2020-04-03T00:00:00\", \"curve\": 79247.75203641434}, {\"day\": \"2020-04-04T00:00:00\", \"curve\": 83615.43093133981}, {\"day\": \"2020-04-05T00:00:00\", \"curve\": 88222.77937064345}, {\"day\": \"2020-04-06T00:00:00\", \"curve\": 93082.82979136946}, {\"day\": \"2020-04-07T00:00:00\", \"curve\": 98209.3098209271}, {\"day\": \"2020-04-08T00:00:00\", \"curve\": 103616.67783407868}, {\"day\": \"2020-04-09T00:00:00\", \"curve\": 109320.16015419518}, {\"day\": \"2020-04-10T00:00:00\", \"curve\": 115335.78995439185}, {\"day\": \"2020-04-11T00:00:00\", \"curve\": 121680.44791345087}, {\"day\": \"2020-04-12T00:00:00\", \"curve\": 128371.90468030664}, {\"day\": \"2020-04-13T00:00:00\", \"curve\": 135428.8651992471}, {\"day\": \"2020-04-14T00:00:00\", \"curve\": 142871.01494580746}, {\"day\": \"2020-04-15T00:00:00\", \"curve\": 150719.06812052408}, {\"day\": \"2020-04-16T00:00:00\", \"curve\": 158994.8178441945}, {\"day\": \"2020-04-17T00:00:00\", \"curve\": 167721.18839396644}, {\"day\": \"2020-04-18T00:00:00\", \"curve\": 176922.28951435062}, {\"day\": \"2020-04-19T00:00:00\", \"curve\": 186623.47283101844}, {\"day\": \"2020-04-20T00:00:00\", \"curve\": 196851.39038788085}, {\"day\": \"2020-04-21T00:00:00\", \"curve\": 207634.05531932352}, {\"day\": \"2020-04-22T00:00:00\", \"curve\": 219000.90465946263}, {\"day\": \"2020-04-23T00:00:00\", \"curve\": 230982.864278719}, {\"day\": \"2020-04-24T00:00:00\", \"curve\": 243612.41592474474}, {\"day\": \"2020-04-25T00:00:00\", \"curve\": 256923.6663295808}, {\"day\": \"2020-04-26T00:00:00\", \"curve\": 270952.41832770436}, {\"day\": \"2020-04-27T00:00:00\", \"curve\": 285736.24391013477}, {\"day\": \"2020-04-28T00:00:00\", \"curve\": 301314.55911779555}, {\"day\": \"2020-04-29T00:00:00\", \"curve\": 317728.7006526573}, {\"day\": \"2020-04-30T00:00:00\", \"curve\": 335022.0040575759}, {\"day\": \"2020-05-01T00:00:00\", \"curve\": 353239.8832849433}, {\"day\": \"2020-05-02T00:00:00\", \"curve\": 372429.9114400464}, {\"day\": \"2020-05-03T00:00:00\", \"curve\": 392641.9024470973}, {\"day\": \"2020-05-04T00:00:00\", \"curve\": 413927.99334402423}, {\"day\": \"2020-05-05T00:00:00\", \"curve\": 436342.7268659982}, {\"day\": \"2020-05-06T00:00:00\", \"curve\": 459943.133927085}], \"data-6f2e19419a0162177a1759a427a3b074\": [{\"day\": \"2020-03-01T00:00:00\", \"cases\": 130}, {\"day\": \"2020-03-02T00:00:00\", \"cases\": 165}, {\"day\": \"2020-03-03T00:00:00\", \"cases\": 203}, {\"day\": \"2020-03-04T00:00:00\", \"cases\": 262}, {\"day\": \"2020-03-05T00:00:00\", \"cases\": 545}, {\"day\": \"2020-03-06T00:00:00\", \"cases\": 670}, {\"day\": \"2020-03-07T00:00:00\", \"cases\": 800}, {\"day\": \"2020-03-08T00:00:00\", \"cases\": 1040}, {\"day\": \"2020-03-09T00:00:00\", \"cases\": 1224}, {\"day\": \"2020-03-10T00:00:00\", \"cases\": 1565}, {\"day\": \"2020-03-11T00:00:00\", \"cases\": 1966}, {\"day\": \"2020-03-12T00:00:00\", \"cases\": 2745}, {\"day\": \"2020-03-13T00:00:00\", \"cases\": 3675}, {\"day\": \"2020-03-14T00:00:00\", \"cases\": 4599}, {\"day\": \"2020-03-15T00:00:00\", \"cases\": 5813}, {\"day\": \"2020-03-16T00:00:00\", \"cases\": 7272}, {\"day\": \"2020-03-17T00:00:00\", \"cases\": 9367}, {\"day\": \"2020-03-18T00:00:00\", \"cases\": 12327}, {\"day\": \"2020-03-19T00:00:00\", \"cases\": 15320}, {\"day\": \"2020-03-20T00:00:00\", \"cases\": 19848}, {\"day\": \"2020-03-21T00:00:00\", \"cases\": 22364}, {\"day\": \"2020-03-22T00:00:00\", \"cases\": 24873}, {\"day\": \"2020-03-23T00:00:00\", \"cases\": 29056}, {\"day\": \"2020-03-24T00:00:00\", \"cases\": 32991}, {\"day\": \"2020-03-25T00:00:00\", \"cases\": 37323}, {\"day\": \"2020-03-26T00:00:00\", \"cases\": 43938}, {\"day\": \"2020-03-27T00:00:00\", \"cases\": 50871}, {\"day\": \"2020-03-28T00:00:00\", \"cases\": 57695}, {\"day\": \"2020-03-29T00:00:00\", \"cases\": 62435}, {\"day\": \"2020-03-30T00:00:00\", \"cases\": 66885}, {\"day\": \"2020-03-31T00:00:00\", \"cases\": 71808}, {\"day\": \"2020-04-01T00:00:00\", \"cases\": 77981}, {\"day\": \"2020-04-02T00:00:00\", \"cases\": 84794}, {\"day\": \"2020-04-03T00:00:00\", \"cases\": 91159}, {\"day\": \"2020-04-04T00:00:00\", \"cases\": 96092}, {\"day\": \"2020-04-05T00:00:00\", \"cases\": 100123}, {\"day\": \"2020-04-06T00:00:00\", \"cases\": 103375}, {\"day\": \"2020-04-07T00:00:00\", \"cases\": 107663}, {\"day\": \"2020-04-08T00:00:00\", \"cases\": 113296}, {\"day\": \"2020-04-09T00:00:00\", \"cases\": 118235}, {\"day\": \"2020-04-10T00:00:00\", \"cases\": 122171}, {\"day\": \"2020-04-11T00:00:00\", \"cases\": 125452}, {\"day\": \"2020-04-12T00:00:00\", \"cases\": 127854}, {\"day\": \"2020-04-13T00:00:00\", \"cases\": 130072}, {\"day\": \"2020-04-14T00:00:00\", \"cases\": 132210}, {\"day\": \"2020-04-15T00:00:00\", \"cases\": 134753}, {\"day\": \"2020-04-16T00:00:00\", \"cases\": 137698}, {\"day\": \"2020-04-17T00:00:00\", \"cases\": 141397}, {\"day\": \"2020-04-18T00:00:00\", \"cases\": 143724}, {\"day\": \"2020-04-19T00:00:00\", \"cases\": 145742}, {\"day\": \"2020-04-20T00:00:00\", \"cases\": 147065}, {\"day\": \"2020-04-21T00:00:00\", \"cases\": 148453}, {\"day\": \"2020-04-22T00:00:00\", \"cases\": 150648}, {\"day\": \"2020-04-23T00:00:00\", \"cases\": 153129}, {\"day\": \"2020-04-24T00:00:00\", \"cases\": 154999}, {\"day\": \"2020-04-25T00:00:00\", \"cases\": 156513}, {\"day\": \"2020-04-26T00:00:00\", \"cases\": 157770}]}}, {\"mode\": \"vega-lite\"});\n",
       "</script>"
      ],
      "text/plain": [
       "alt.LayerChart(...)"
      ]
     },
     "execution_count": 6,
     "metadata": {},
     "output_type": "execute_result"
    }
   ],
   "source": [
    "infections_chart = alt.Chart(data).mark_line(point=True, color=\"red\").encode(\n",
    "    alt.X(\"monthdate(day):O\", title=\"Tag\"),\n",
    "    alt.Y(\"cases:Q\", title=\"Corona-Fallzahlen\"))\n",
    "projection_chart = alt.Chart(projection_data).mark_line(point=False).encode(\n",
    "    alt.X(\"monthdate(day):O\", title=\"Tag\"),\n",
    "    alt.Y(\"curve:Q\", title=\"Fallzahlen (Projektion)\"))\n",
    "(projection_chart + infections_chart).properties(width=600, height=400)"
   ]
  },
  {
   "cell_type": "code",
   "execution_count": 7,
   "metadata": {},
   "outputs": [
    {
     "data": {
      "text/plain": [
       "['318430', '159215', '106143']"
      ]
     },
     "execution_count": 7,
     "metadata": {},
     "output_type": "execute_result"
    }
   ],
   "source": [
    "bev_de = 83019213\n",
    "infizierte_pro_tag = [\"{:.0f}\".format(bev_de*0.7/(365*dauer)) for dauer in [0.5, 1, 1.5]]\n",
    "infizierte_pro_tag"
   ]
  },
  {
   "cell_type": "code",
   "execution_count": 8,
   "metadata": {
    "scrolled": true
   },
   "outputs": [
    {
     "name": "stderr",
     "output_type": "stream",
     "text": [
      "<ipython-input-8-d7f82ceca037>:7: UserWarning: Boolean Series key will be reindexed to match DataFrame index.\n",
      "  c1 = np.array(data[(md1 <= data[\"day\"])][(data[\"day\"] <= md2)][\"cases\"])\n",
      "<ipython-input-8-d7f82ceca037>:8: UserWarning: Boolean Series key will be reindexed to match DataFrame index.\n",
      "  d1 = np.array([d.toordinal() for d in data[md1 <= data[\"day\"]][data[\"day\"] <= md2][\"day\"]])\n"
     ]
    },
    {
     "name": "stdout",
     "output_type": "stream",
     "text": [
      "[1.82759729e+02 7.37485098e+05 7.94076382e-09 3.12653509e+07] \n",
      " [2.58995320e+04 7.37506189e+05 4.71178611e-09 2.93265889e+07] \n",
      " [5.76889717e+04 7.37512086e+05 2.65712934e-09 2.02720125e+07]\n"
     ]
    },
    {
     "data": {
      "text/html": [
       "\n",
       "<div id=\"altair-viz-57a3354d45ec431fac16d53d2c155cbf\"></div>\n",
       "<script type=\"text/javascript\">\n",
       "  (function(spec, embedOpt){\n",
       "    const outputDiv = document.getElementById(\"altair-viz-57a3354d45ec431fac16d53d2c155cbf\");\n",
       "    const paths = {\n",
       "      \"vega\": \"https://cdn.jsdelivr.net/npm//vega@5?noext\",\n",
       "      \"vega-lib\": \"https://cdn.jsdelivr.net/npm//vega-lib?noext\",\n",
       "      \"vega-lite\": \"https://cdn.jsdelivr.net/npm//vega-lite@4.0.2?noext\",\n",
       "      \"vega-embed\": \"https://cdn.jsdelivr.net/npm//vega-embed@6?noext\",\n",
       "    };\n",
       "\n",
       "    function loadScript(lib) {\n",
       "      return new Promise(function(resolve, reject) {\n",
       "        var s = document.createElement('script');\n",
       "        s.src = paths[lib];\n",
       "        s.async = true;\n",
       "        s.onload = () => resolve(paths[lib]);\n",
       "        s.onerror = () => reject(`Error loading script: ${paths[lib]}`);\n",
       "        document.getElementsByTagName(\"head\")[0].appendChild(s);\n",
       "      });\n",
       "    }\n",
       "\n",
       "    function showError(err) {\n",
       "      outputDiv.innerHTML = `<div class=\"error\" style=\"color:red;\">${err}</div>`;\n",
       "      throw err;\n",
       "    }\n",
       "\n",
       "    function displayChart(vegaEmbed) {\n",
       "      vegaEmbed(outputDiv, spec, embedOpt)\n",
       "        .catch(err => showError(`Javascript Error: ${err.message}<br>This usually means there's a typo in your chart specification. See the javascript console for the full traceback.`));\n",
       "    }\n",
       "\n",
       "    if(typeof define === \"function\" && define.amd) {\n",
       "      requirejs.config({paths});\n",
       "      require([\"vega-embed\"], displayChart, err => showError(`Error loading script: ${err.message}`));\n",
       "    } else if (typeof vegaEmbed === \"function\") {\n",
       "      displayChart(vegaEmbed);\n",
       "    } else {\n",
       "      loadScript(\"vega\")\n",
       "        .then(() => loadScript(\"vega-lite\"))\n",
       "        .then(() => loadScript(\"vega-embed\"))\n",
       "        .catch(showError)\n",
       "        .then(() => displayChart(vegaEmbed));\n",
       "    }\n",
       "  })({\"config\": {\"view\": {\"continuousWidth\": 400, \"continuousHeight\": 300}}, \"layer\": [{\"mark\": {\"type\": \"line\", \"point\": true}, \"encoding\": {\"color\": {\"type\": \"nominal\", \"field\": \"Typ\", \"legend\": {\"cornerRadius\": 7, \"fillColor\": \"white\", \"legendX\": 20, \"legendY\": 20, \"orient\": \"none\", \"padding\": 6, \"strokeColor\": \"black\", \"title\": \"Prognosen nach Ma\\u00dfnahmen\"}, \"scale\": {\"scheme\": \"set1\"}}, \"x\": {\"type\": \"temporal\", \"field\": \"Tag\", \"timeUnit\": \"monthdate\", \"title\": \"Tag\"}, \"y\": {\"type\": \"quantitative\", \"field\": \"Infektionszahlen\", \"title\": \"Infektionszahlen\"}}}, {\"mark\": \"point\", \"encoding\": {\"opacity\": {\"value\": 0}, \"x\": {\"type\": \"temporal\", \"field\": \"Tag\", \"timeUnit\": \"monthdate\", \"title\": \"Tag\"}}, \"selection\": {\"selector001\": {\"type\": \"single\", \"nearest\": true, \"on\": \"mouseover\", \"fields\": [\"Tag\"], \"empty\": \"none\"}}}, {\"mark\": \"point\", \"encoding\": {\"color\": {\"type\": \"nominal\", \"field\": \"Typ\", \"legend\": {\"cornerRadius\": 7, \"fillColor\": \"white\", \"legendX\": 20, \"legendY\": 20, \"orient\": \"none\", \"padding\": 6, \"strokeColor\": \"black\", \"title\": \"Prognosen nach Ma\\u00dfnahmen\"}, \"scale\": {\"scheme\": \"set1\"}}, \"opacity\": {\"condition\": {\"value\": 1, \"selection\": \"selector001\"}, \"value\": 0}, \"x\": {\"type\": \"temporal\", \"field\": \"Tag\", \"timeUnit\": \"monthdate\", \"title\": \"Tag\"}, \"y\": {\"type\": \"quantitative\", \"field\": \"Infektionszahlen\", \"title\": \"Infektionszahlen\"}}}, {\"mark\": {\"type\": \"rule\", \"color\": \"gray\"}, \"encoding\": {\"x\": {\"type\": \"temporal\", \"field\": \"Tag\", \"timeUnit\": \"monthdate\", \"title\": \"Tag\"}}, \"transform\": [{\"filter\": {\"selection\": \"selector001\"}}]}, {\"mark\": {\"type\": \"text\", \"align\": \"left\", \"dx\": 5, \"dy\": 5}, \"encoding\": {\"color\": {\"type\": \"nominal\", \"field\": \"Typ\", \"legend\": {\"cornerRadius\": 7, \"fillColor\": \"white\", \"legendX\": 20, \"legendY\": 20, \"orient\": \"none\", \"padding\": 6, \"strokeColor\": \"black\", \"title\": \"Prognosen nach Ma\\u00dfnahmen\"}, \"scale\": {\"scheme\": \"set1\"}}, \"text\": {\"condition\": {\"type\": \"quantitative\", \"field\": \"Infektionszahlen\", \"selection\": \"selector001\"}, \"value\": \" \"}, \"x\": {\"type\": \"temporal\", \"field\": \"Tag\", \"timeUnit\": \"monthdate\", \"title\": \"Tag\"}, \"y\": {\"type\": \"quantitative\", \"field\": \"Infektionszahlen\", \"title\": \"Infektionszahlen\"}}}], \"data\": {\"name\": \"data-1d9b58fcde1a6b0cedc0262165af4602\"}, \"height\": 400, \"width\": 850, \"$schema\": \"https://vega.github.io/schema/vega-lite/v4.0.2.json\", \"datasets\": {\"data-1d9b58fcde1a6b0cedc0262165af4602\": [{\"Tag\": \"2020-04-17T00:00:00\", \"Infektionszahlen\": 141397.0, \"Typ\": \"Fallzahlen\"}, {\"Tag\": \"2020-04-18T00:00:00\", \"Infektionszahlen\": 143724.0, \"Typ\": \"Fallzahlen\"}, {\"Tag\": \"2020-04-19T00:00:00\", \"Infektionszahlen\": 145742.0, \"Typ\": \"Fallzahlen\"}, {\"Tag\": \"2020-04-20T00:00:00\", \"Infektionszahlen\": 147065.0, \"Typ\": \"Fallzahlen\"}, {\"Tag\": \"2020-04-21T00:00:00\", \"Infektionszahlen\": 148453.0, \"Typ\": \"Fallzahlen\"}, {\"Tag\": \"2020-04-22T00:00:00\", \"Infektionszahlen\": 150648.0, \"Typ\": \"Fallzahlen\"}, {\"Tag\": \"2020-04-23T00:00:00\", \"Infektionszahlen\": 153129.0, \"Typ\": \"Fallzahlen\"}, {\"Tag\": \"2020-04-24T00:00:00\", \"Infektionszahlen\": 154999.0, \"Typ\": \"Fallzahlen\"}, {\"Tag\": \"2020-04-25T00:00:00\", \"Infektionszahlen\": 156513.0, \"Typ\": \"Fallzahlen\"}, {\"Tag\": \"2020-04-26T00:00:00\", \"Infektionszahlen\": 157770.0, \"Typ\": \"Fallzahlen\"}, {\"Tag\": \"2020-03-01T00:00:00\", \"Infektionszahlen\": 178.38677505371075, \"Typ\": \"Ungebremste Ausbreitung\"}, {\"Tag\": \"2020-03-02T00:00:00\", \"Infektionszahlen\": 228.65704159456772, \"Typ\": \"Ungebremste Ausbreitung\"}, {\"Tag\": \"2020-03-03T00:00:00\", \"Infektionszahlen\": 293.0935825533319, \"Typ\": \"Ungebremste Ausbreitung\"}, {\"Tag\": \"2020-03-04T00:00:00\", \"Infektionszahlen\": 375.688400596591, \"Typ\": \"Ungebremste Ausbreitung\"}, {\"Tag\": \"2020-03-05T00:00:00\", \"Infektionszahlen\": 481.5583747663005, \"Typ\": \"Ungebremste Ausbreitung\"}, {\"Tag\": \"2020-03-06T00:00:00\", \"Infektionszahlen\": 617.262195616483, \"Typ\": \"Ungebremste Ausbreitung\"}, {\"Tag\": \"2020-03-07T00:00:00\", \"Infektionszahlen\": 791.2065744643756, \"Typ\": \"Ungebremste Ausbreitung\"}, {\"Tag\": \"2020-03-08T00:00:00\", \"Infektionszahlen\": 1014.1668588401714, \"Typ\": \"Ungebremste Ausbreitung\"}, {\"Tag\": \"2020-03-09T00:00:00\", \"Infektionszahlen\": 1299.954251912303, \"Typ\": \"Ungebremste Ausbreitung\"}, {\"Tag\": \"2020-03-10T00:00:00\", \"Infektionszahlen\": 1666.2708797831308, \"Typ\": \"Ungebremste Ausbreitung\"}, {\"Tag\": \"2020-03-11T00:00:00\", \"Infektionszahlen\": 2135.80552829177, \"Typ\": \"Ungebremste Ausbreitung\"}, {\"Tag\": \"2020-03-12T00:00:00\", \"Infektionszahlen\": 2737.63768242644, \"Typ\": \"Ungebremste Ausbreitung\"}, {\"Tag\": \"2020-03-13T00:00:00\", \"Infektionszahlen\": 3509.0364393210725, \"Typ\": \"Ungebremste Ausbreitung\"}, {\"Tag\": \"2020-03-14T00:00:00\", \"Infektionszahlen\": 4497.765062399147, \"Typ\": \"Ungebremste Ausbreitung\"}, {\"Tag\": \"2020-03-15T00:00:00\", \"Infektionszahlen\": 5765.03283134614, \"Typ\": \"Ungebremste Ausbreitung\"}, {\"Tag\": \"2020-03-16T00:00:00\", \"Infektionszahlen\": 7389.275223423822, \"Typ\": \"Ungebremste Ausbreitung\"}, {\"Tag\": \"2020-03-17T00:00:00\", \"Infektionszahlen\": 9470.993594851894, \"Typ\": \"Ungebremste Ausbreitung\"}, {\"Tag\": \"2020-03-18T00:00:00\", \"Infektionszahlen\": 12138.94922546987, \"Typ\": \"Ungebremste Ausbreitung\"}, {\"Tag\": \"2020-03-19T00:00:00\", \"Infektionszahlen\": 15558.087304878462, \"Typ\": \"Ungebremste Ausbreitung\"}, {\"Tag\": \"2020-03-20T00:00:00\", \"Infektionszahlen\": 19939.668376853813, \"Typ\": \"Ungebremste Ausbreitung\"}, {\"Tag\": \"2020-03-21T00:00:00\", \"Infektionszahlen\": 25554.212931468654, \"Typ\": \"Ungebremste Ausbreitung\"}, {\"Tag\": \"2020-03-22T00:00:00\", \"Infektionszahlen\": 32748.025048688018, \"Typ\": \"Ungebremste Ausbreitung\"}, {\"Tag\": \"2020-03-23T00:00:00\", \"Infektionszahlen\": 41964.259697652946, \"Typ\": \"Ungebremste Ausbreitung\"}, {\"Tag\": \"2020-03-24T00:00:00\", \"Infektionszahlen\": 53769.7421215249, \"Typ\": \"Ungebremste Ausbreitung\"}, {\"Tag\": \"2020-03-25T00:00:00\", \"Infektionszahlen\": 68889.04257943304, \"Typ\": \"Ungebremste Ausbreitung\"}, {\"Tag\": \"2020-03-26T00:00:00\", \"Infektionszahlen\": 88247.65891550979, \"Typ\": \"Ungebremste Ausbreitung\"}, {\"Tag\": \"2020-03-27T00:00:00\", \"Infektionszahlen\": 113026.56053949392, \"Typ\": \"Ungebremste Ausbreitung\"}, {\"Tag\": \"2020-03-28T00:00:00\", \"Infektionszahlen\": 144730.78666262917, \"Typ\": \"Ungebremste Ausbreitung\"}, {\"Tag\": \"2020-03-29T00:00:00\", \"Infektionszahlen\": 185275.23473079034, \"Typ\": \"Ungebremste Ausbreitung\"}, {\"Tag\": \"2020-03-30T00:00:00\", \"Infektionszahlen\": 237091.15230806542, \"Typ\": \"Ungebremste Ausbreitung\"}, {\"Tag\": \"2020-03-31T00:00:00\", \"Infektionszahlen\": 303257.0292794403, \"Typ\": \"Ungebremste Ausbreitung\"}, {\"Tag\": \"2020-04-01T00:00:00\", \"Infektionszahlen\": null, \"Typ\": \"Ungebremste Ausbreitung\"}, {\"Tag\": \"2020-04-02T00:00:00\", \"Infektionszahlen\": null, \"Typ\": \"Ungebremste Ausbreitung\"}, {\"Tag\": \"2020-04-03T00:00:00\", \"Infektionszahlen\": null, \"Typ\": \"Ungebremste Ausbreitung\"}, {\"Tag\": \"2020-04-04T00:00:00\", \"Infektionszahlen\": null, \"Typ\": \"Ungebremste Ausbreitung\"}, {\"Tag\": \"2020-04-05T00:00:00\", \"Infektionszahlen\": null, \"Typ\": \"Ungebremste Ausbreitung\"}, {\"Tag\": \"2020-04-06T00:00:00\", \"Infektionszahlen\": null, \"Typ\": \"Ungebremste Ausbreitung\"}, {\"Tag\": \"2020-04-07T00:00:00\", \"Infektionszahlen\": null, \"Typ\": \"Ungebremste Ausbreitung\"}, {\"Tag\": \"2020-04-08T00:00:00\", \"Infektionszahlen\": null, \"Typ\": \"Ungebremste Ausbreitung\"}, {\"Tag\": \"2020-04-09T00:00:00\", \"Infektionszahlen\": null, \"Typ\": \"Ungebremste Ausbreitung\"}, {\"Tag\": \"2020-04-10T00:00:00\", \"Infektionszahlen\": null, \"Typ\": \"Ungebremste Ausbreitung\"}, {\"Tag\": \"2020-04-11T00:00:00\", \"Infektionszahlen\": null, \"Typ\": \"Ungebremste Ausbreitung\"}, {\"Tag\": \"2020-04-12T00:00:00\", \"Infektionszahlen\": null, \"Typ\": \"Ungebremste Ausbreitung\"}, {\"Tag\": \"2020-04-13T00:00:00\", \"Infektionszahlen\": null, \"Typ\": \"Ungebremste Ausbreitung\"}, {\"Tag\": \"2020-04-14T00:00:00\", \"Infektionszahlen\": null, \"Typ\": \"Ungebremste Ausbreitung\"}, {\"Tag\": \"2020-04-15T00:00:00\", \"Infektionszahlen\": null, \"Typ\": \"Ungebremste Ausbreitung\"}, {\"Tag\": \"2020-04-16T00:00:00\", \"Infektionszahlen\": null, \"Typ\": \"Ungebremste Ausbreitung\"}, {\"Tag\": \"2020-04-17T00:00:00\", \"Infektionszahlen\": null, \"Typ\": \"Ungebremste Ausbreitung\"}, {\"Tag\": \"2020-04-18T00:00:00\", \"Infektionszahlen\": null, \"Typ\": \"Ungebremste Ausbreitung\"}, {\"Tag\": \"2020-04-19T00:00:00\", \"Infektionszahlen\": null, \"Typ\": \"Ungebremste Ausbreitung\"}, {\"Tag\": \"2020-04-20T00:00:00\", \"Infektionszahlen\": null, \"Typ\": \"Ungebremste Ausbreitung\"}, {\"Tag\": \"2020-04-21T00:00:00\", \"Infektionszahlen\": null, \"Typ\": \"Ungebremste Ausbreitung\"}, {\"Tag\": \"2020-04-22T00:00:00\", \"Infektionszahlen\": null, \"Typ\": \"Ungebremste Ausbreitung\"}, {\"Tag\": \"2020-04-23T00:00:00\", \"Infektionszahlen\": null, \"Typ\": \"Ungebremste Ausbreitung\"}, {\"Tag\": \"2020-04-24T00:00:00\", \"Infektionszahlen\": null, \"Typ\": \"Ungebremste Ausbreitung\"}, {\"Tag\": \"2020-04-25T00:00:00\", \"Infektionszahlen\": null, \"Typ\": \"Ungebremste Ausbreitung\"}, {\"Tag\": \"2020-04-26T00:00:00\", \"Infektionszahlen\": null, \"Typ\": \"Ungebremste Ausbreitung\"}, {\"Tag\": \"2020-04-27T00:00:00\", \"Infektionszahlen\": null, \"Typ\": \"Ungebremste Ausbreitung\"}, {\"Tag\": \"2020-04-28T00:00:00\", \"Infektionszahlen\": null, \"Typ\": \"Ungebremste Ausbreitung\"}, {\"Tag\": \"2020-04-29T00:00:00\", \"Infektionszahlen\": null, \"Typ\": \"Ungebremste Ausbreitung\"}, {\"Tag\": \"2020-04-30T00:00:00\", \"Infektionszahlen\": null, \"Typ\": \"Ungebremste Ausbreitung\"}, {\"Tag\": \"2020-05-01T00:00:00\", \"Infektionszahlen\": null, \"Typ\": \"Ungebremste Ausbreitung\"}, {\"Tag\": \"2020-03-01T00:00:00\", \"Infektionszahlen\": 1386.924634834079, \"Typ\": \"Mit Ausgangsbeschr\\u00e4nkungen\"}, {\"Tag\": \"2020-03-02T00:00:00\", \"Infektionszahlen\": 1592.4320033896436, \"Typ\": \"Mit Ausgangsbeschr\\u00e4nkungen\"}, {\"Tag\": \"2020-03-03T00:00:00\", \"Infektionszahlen\": 1828.388499662427, \"Typ\": \"Mit Ausgangsbeschr\\u00e4nkungen\"}, {\"Tag\": \"2020-03-04T00:00:00\", \"Infektionszahlen\": 2099.3050333771503, \"Typ\": \"Mit Ausgangsbeschr\\u00e4nkungen\"}, {\"Tag\": \"2020-03-05T00:00:00\", \"Infektionszahlen\": 2410.360594141426, \"Typ\": \"Mit Ausgangsbeschr\\u00e4nkungen\"}, {\"Tag\": \"2020-03-06T00:00:00\", \"Infektionszahlen\": 2767.501134949113, \"Typ\": \"Mit Ausgangsbeschr\\u00e4nkungen\"}, {\"Tag\": \"2020-03-07T00:00:00\", \"Infektionszahlen\": 3177.5530720906017, \"Typ\": \"Mit Ausgangsbeschr\\u00e4nkungen\"}, {\"Tag\": \"2020-03-08T00:00:00\", \"Infektionszahlen\": 3648.3535557804857, \"Typ\": \"Mit Ausgangsbeschr\\u00e4nkungen\"}, {\"Tag\": \"2020-03-09T00:00:00\", \"Infektionszahlen\": 4188.899981359277, \"Typ\": \"Mit Ausgangsbeschr\\u00e4nkungen\"}, {\"Tag\": \"2020-03-10T00:00:00\", \"Infektionszahlen\": 4809.521572059578, \"Typ\": \"Mit Ausgangsbeschr\\u00e4nkungen\"}, {\"Tag\": \"2020-03-11T00:00:00\", \"Infektionszahlen\": 5522.07627743164, \"Typ\": \"Mit Ausgangsbeschr\\u00e4nkungen\"}, {\"Tag\": \"2020-03-12T00:00:00\", \"Infektionszahlen\": 6340.176703810512, \"Typ\": \"Mit Ausgangsbeschr\\u00e4nkungen\"}, {\"Tag\": \"2020-03-13T00:00:00\", \"Infektionszahlen\": 7279.449332802062, \"Typ\": \"Mit Ausgangsbeschr\\u00e4nkungen\"}, {\"Tag\": \"2020-03-14T00:00:00\", \"Infektionszahlen\": 8357.831899793791, \"Typ\": \"Mit Ausgangsbeschr\\u00e4nkungen\"}, {\"Tag\": \"2020-03-15T00:00:00\", \"Infektionszahlen\": 9595.914507167729, \"Typ\": \"Mit Ausgangsbeschr\\u00e4nkungen\"}, {\"Tag\": \"2020-03-16T00:00:00\", \"Infektionszahlen\": 11017.330847576926, \"Typ\": \"Mit Ausgangsbeschr\\u00e4nkungen\"}, {\"Tag\": \"2020-03-17T00:00:00\", \"Infektionszahlen\": 12649.206823935383, \"Typ\": \"Mit Ausgangsbeschr\\u00e4nkungen\"}, {\"Tag\": \"2020-03-18T00:00:00\", \"Infektionszahlen\": 14522.67488851193, \"Typ\": \"Mit Ausgangsbeschr\\u00e4nkungen\"}, {\"Tag\": \"2020-03-19T00:00:00\", \"Infektionszahlen\": 16673.463598813858, \"Typ\": \"Mit Ausgangsbeschr\\u00e4nkungen\"}, {\"Tag\": \"2020-03-20T00:00:00\", \"Infektionszahlen\": 19142.57321908663, \"Typ\": \"Mit Ausgangsbeschr\\u00e4nkungen\"}, {\"Tag\": \"2020-03-21T00:00:00\", \"Infektionszahlen\": 21977.049700573523, \"Typ\": \"Mit Ausgangsbeschr\\u00e4nkungen\"}, {\"Tag\": \"2020-03-22T00:00:00\", \"Infektionszahlen\": 25230.87106927236, \"Typ\": \"Mit Ausgangsbeschr\\u00e4nkungen\"}, {\"Tag\": \"2020-03-23T00:00:00\", \"Infektionszahlen\": 28965.962155221434, \"Typ\": \"Mit Ausgangsbeschr\\u00e4nkungen\"}, {\"Tag\": \"2020-03-24T00:00:00\", \"Infektionszahlen\": 33253.35573041994, \"Typ\": \"Mit Ausgangsbeschr\\u00e4nkungen\"}, {\"Tag\": \"2020-03-25T00:00:00\", \"Infektionszahlen\": 38174.520500075705, \"Typ\": \"Mit Ausgangsbeschr\\u00e4nkungen\"}, {\"Tag\": \"2020-03-26T00:00:00\", \"Infektionszahlen\": 43822.879027950126, \"Typ\": \"Mit Ausgangsbeschr\\u00e4nkungen\"}, {\"Tag\": \"2020-03-27T00:00:00\", \"Infektionszahlen\": 50305.54158036862, \"Typ\": \"Mit Ausgangsbeschr\\u00e4nkungen\"}, {\"Tag\": \"2020-03-28T00:00:00\", \"Infektionszahlen\": 57745.28504672771, \"Typ\": \"Mit Ausgangsbeschr\\u00e4nkungen\"}, {\"Tag\": \"2020-03-29T00:00:00\", \"Infektionszahlen\": 66282.80952759742, \"Typ\": \"Mit Ausgangsbeschr\\u00e4nkungen\"}, {\"Tag\": \"2020-03-30T00:00:00\", \"Infektionszahlen\": 76079.30884911181, \"Typ\": \"Mit Ausgangsbeschr\\u00e4nkungen\"}, {\"Tag\": \"2020-03-31T00:00:00\", \"Infektionszahlen\": 87319.39511571385, \"Typ\": \"Mit Ausgangsbeschr\\u00e4nkungen\"}, {\"Tag\": \"2020-04-01T00:00:00\", \"Infektionszahlen\": 100214.42137227497, \"Typ\": \"Mit Ausgangsbeschr\\u00e4nkungen\"}, {\"Tag\": \"2020-04-02T00:00:00\", \"Infektionszahlen\": 115006.25038785029, \"Typ\": \"Mit Ausgangsbeschr\\u00e4nkungen\"}, {\"Tag\": \"2020-04-03T00:00:00\", \"Infektionszahlen\": 131971.52131566816, \"Typ\": \"Mit Ausgangsbeschr\\u00e4nkungen\"}, {\"Tag\": \"2020-04-04T00:00:00\", \"Infektionszahlen\": 151426.46926937756, \"Typ\": \"Mit Ausgangsbeschr\\u00e4nkungen\"}, {\"Tag\": \"2020-04-05T00:00:00\", \"Infektionszahlen\": 173732.3553253555, \"Typ\": \"Mit Ausgangsbeschr\\u00e4nkungen\"}, {\"Tag\": \"2020-04-06T00:00:00\", \"Infektionszahlen\": 199301.56562568402, \"Typ\": \"Mit Ausgangsbeschr\\u00e4nkungen\"}, {\"Tag\": \"2020-04-07T00:00:00\", \"Infektionszahlen\": 228604.43745972778, \"Typ\": \"Mit Ausgangsbeschr\\u00e4nkungen\"}, {\"Tag\": \"2020-04-08T00:00:00\", \"Infektionszahlen\": 262176.86657617794, \"Typ\": \"Mit Ausgangsbeschr\\u00e4nkungen\"}, {\"Tag\": \"2020-04-09T00:00:00\", \"Infektionszahlen\": 300628.742390888, \"Typ\": \"Mit Ausgangsbeschr\\u00e4nkungen\"}, {\"Tag\": \"2020-04-10T00:00:00\", \"Infektionszahlen\": 344653.2447554692, \"Typ\": \"Mit Ausgangsbeschr\\u00e4nkungen\"}, {\"Tag\": \"2020-04-11T00:00:00\", \"Infektionszahlen\": null, \"Typ\": \"Mit Ausgangsbeschr\\u00e4nkungen\"}, {\"Tag\": \"2020-04-12T00:00:00\", \"Infektionszahlen\": null, \"Typ\": \"Mit Ausgangsbeschr\\u00e4nkungen\"}, {\"Tag\": \"2020-04-13T00:00:00\", \"Infektionszahlen\": null, \"Typ\": \"Mit Ausgangsbeschr\\u00e4nkungen\"}, {\"Tag\": \"2020-04-14T00:00:00\", \"Infektionszahlen\": null, \"Typ\": \"Mit Ausgangsbeschr\\u00e4nkungen\"}, {\"Tag\": \"2020-04-15T00:00:00\", \"Infektionszahlen\": null, \"Typ\": \"Mit Ausgangsbeschr\\u00e4nkungen\"}, {\"Tag\": \"2020-04-16T00:00:00\", \"Infektionszahlen\": null, \"Typ\": \"Mit Ausgangsbeschr\\u00e4nkungen\"}, {\"Tag\": \"2020-04-17T00:00:00\", \"Infektionszahlen\": null, \"Typ\": \"Mit Ausgangsbeschr\\u00e4nkungen\"}, {\"Tag\": \"2020-04-18T00:00:00\", \"Infektionszahlen\": null, \"Typ\": \"Mit Ausgangsbeschr\\u00e4nkungen\"}, {\"Tag\": \"2020-04-19T00:00:00\", \"Infektionszahlen\": null, \"Typ\": \"Mit Ausgangsbeschr\\u00e4nkungen\"}, {\"Tag\": \"2020-04-20T00:00:00\", \"Infektionszahlen\": null, \"Typ\": \"Mit Ausgangsbeschr\\u00e4nkungen\"}, {\"Tag\": \"2020-04-21T00:00:00\", \"Infektionszahlen\": null, \"Typ\": \"Mit Ausgangsbeschr\\u00e4nkungen\"}, {\"Tag\": \"2020-04-22T00:00:00\", \"Infektionszahlen\": null, \"Typ\": \"Mit Ausgangsbeschr\\u00e4nkungen\"}, {\"Tag\": \"2020-04-23T00:00:00\", \"Infektionszahlen\": null, \"Typ\": \"Mit Ausgangsbeschr\\u00e4nkungen\"}, {\"Tag\": \"2020-04-24T00:00:00\", \"Infektionszahlen\": null, \"Typ\": \"Mit Ausgangsbeschr\\u00e4nkungen\"}, {\"Tag\": \"2020-04-25T00:00:00\", \"Infektionszahlen\": null, \"Typ\": \"Mit Ausgangsbeschr\\u00e4nkungen\"}, {\"Tag\": \"2020-04-26T00:00:00\", \"Infektionszahlen\": null, \"Typ\": \"Mit Ausgangsbeschr\\u00e4nkungen\"}, {\"Tag\": \"2020-04-27T00:00:00\", \"Infektionszahlen\": null, \"Typ\": \"Mit Ausgangsbeschr\\u00e4nkungen\"}, {\"Tag\": \"2020-04-28T00:00:00\", \"Infektionszahlen\": null, \"Typ\": \"Mit Ausgangsbeschr\\u00e4nkungen\"}, {\"Tag\": \"2020-04-29T00:00:00\", \"Infektionszahlen\": null, \"Typ\": \"Mit Ausgangsbeschr\\u00e4nkungen\"}, {\"Tag\": \"2020-04-30T00:00:00\", \"Infektionszahlen\": null, \"Typ\": \"Mit Ausgangsbeschr\\u00e4nkungen\"}, {\"Tag\": \"2020-05-01T00:00:00\", \"Infektionszahlen\": null, \"Typ\": \"Mit Ausgangsbeschr\\u00e4nkungen\"}, {\"Tag\": \"2020-03-01T00:00:00\", \"Infektionszahlen\": 13440.544414407905, \"Typ\": \"Mit Kontaktverbot\"}, {\"Tag\": \"2020-03-02T00:00:00\", \"Infektionszahlen\": 14183.85730777587, \"Typ\": \"Mit Kontaktverbot\"}, {\"Tag\": \"2020-03-03T00:00:00\", \"Infektionszahlen\": 14968.247839809741, \"Typ\": \"Mit Kontaktverbot\"}, {\"Tag\": \"2020-03-04T00:00:00\", \"Infektionszahlen\": 15795.982628598731, \"Typ\": \"Mit Kontaktverbot\"}, {\"Tag\": \"2020-03-05T00:00:00\", \"Infektionszahlen\": 16669.452969370916, \"Typ\": \"Mit Kontaktverbot\"}, {\"Tag\": \"2020-03-06T00:00:00\", \"Infektionszahlen\": 17591.181647863497, \"Typ\": \"Mit Kontaktverbot\"}, {\"Tag\": \"2020-03-07T00:00:00\", \"Infektionszahlen\": 18563.830120955638, \"Typ\": \"Mit Kontaktverbot\"}, {\"Tag\": \"2020-03-08T00:00:00\", \"Infektionszahlen\": 19590.206083780515, \"Typ\": \"Mit Kontaktverbot\"}, {\"Tag\": \"2020-03-09T00:00:00\", \"Infektionszahlen\": 20673.271443472644, \"Typ\": \"Mit Kontaktverbot\"}, {\"Tag\": \"2020-03-10T00:00:00\", \"Infektionszahlen\": 21816.1507206824, \"Typ\": \"Mit Kontaktverbot\"}, {\"Tag\": \"2020-03-11T00:00:00\", \"Infektionszahlen\": 23022.13990100564, \"Typ\": \"Mit Kontaktverbot\"}, {\"Tag\": \"2020-03-12T00:00:00\", \"Infektionszahlen\": 24294.715759529834, \"Typ\": \"Mit Kontaktverbot\"}, {\"Tag\": \"2020-03-13T00:00:00\", \"Infektionszahlen\": 25637.545682791875, \"Typ\": \"Mit Kontaktverbot\"}, {\"Tag\": \"2020-03-14T00:00:00\", \"Infektionszahlen\": 27054.49801357506, \"Typ\": \"Mit Kontaktverbot\"}, {\"Tag\": \"2020-03-15T00:00:00\", \"Infektionszahlen\": 28549.652945144306, \"Typ\": \"Mit Kontaktverbot\"}, {\"Tag\": \"2020-03-16T00:00:00\", \"Infektionszahlen\": 30127.313992729134, \"Typ\": \"Mit Kontaktverbot\"}, {\"Tag\": \"2020-03-17T00:00:00\", \"Infektionszahlen\": 31792.020071311617, \"Typ\": \"Mit Kontaktverbot\"}, {\"Tag\": \"2020-03-18T00:00:00\", \"Infektionszahlen\": 33548.558210061776, \"Typ\": \"Mit Kontaktverbot\"}, {\"Tag\": \"2020-03-19T00:00:00\", \"Infektionszahlen\": 35401.976935082675, \"Typ\": \"Mit Kontaktverbot\"}, {\"Tag\": \"2020-03-20T00:00:00\", \"Infektionszahlen\": 37357.60035348096, \"Typ\": \"Mit Kontaktverbot\"}, {\"Tag\": \"2020-03-21T00:00:00\", \"Infektionszahlen\": 39421.04297316299, \"Typ\": \"Mit Kontaktverbot\"}, {\"Tag\": \"2020-03-22T00:00:00\", \"Infektionszahlen\": 41598.22529416826, \"Typ\": \"Mit Kontaktverbot\"}, {\"Tag\": \"2020-03-23T00:00:00\", \"Infektionszahlen\": 43895.39020878804, \"Typ\": \"Mit Kontaktverbot\"}, {\"Tag\": \"2020-03-24T00:00:00\", \"Infektionszahlen\": 46319.120249172316, \"Typ\": \"Mit Kontaktverbot\"}, {\"Tag\": \"2020-03-25T00:00:00\", \"Infektionszahlen\": 48876.355722597356, \"Typ\": \"Mit Kontaktverbot\"}, {\"Tag\": \"2020-03-26T00:00:00\", \"Infektionszahlen\": 51574.41377604324, \"Typ\": \"Mit Kontaktverbot\"}, {\"Tag\": \"2020-03-27T00:00:00\", \"Infektionszahlen\": 54421.00843320796, \"Typ\": \"Mit Kontaktverbot\"}, {\"Tag\": \"2020-03-28T00:00:00\", \"Infektionszahlen\": 57424.271648552916, \"Typ\": \"Mit Kontaktverbot\"}, {\"Tag\": \"2020-03-29T00:00:00\", \"Infektionszahlen\": 60592.7754244252, \"Typ\": \"Mit Kontaktverbot\"}, {\"Tag\": \"2020-03-30T00:00:00\", \"Infektionszahlen\": 63935.55503872127, \"Typ\": \"Mit Kontaktverbot\"}, {\"Tag\": \"2020-03-31T00:00:00\", \"Infektionszahlen\": 67462.13343193344, \"Typ\": \"Mit Kontaktverbot\"}, {\"Tag\": \"2020-04-01T00:00:00\", \"Infektionszahlen\": 71182.54680373787, \"Typ\": \"Mit Kontaktverbot\"}, {\"Tag\": \"2020-04-02T00:00:00\", \"Infektionszahlen\": 75107.37147052443, \"Typ\": \"Mit Kontaktverbot\"}, {\"Tag\": \"2020-04-03T00:00:00\", \"Infektionszahlen\": 79247.75203641434, \"Typ\": \"Mit Kontaktverbot\"}, {\"Tag\": \"2020-04-04T00:00:00\", \"Infektionszahlen\": 83615.43093133981, \"Typ\": \"Mit Kontaktverbot\"}, {\"Tag\": \"2020-04-05T00:00:00\", \"Infektionszahlen\": 88222.77937064345, \"Typ\": \"Mit Kontaktverbot\"}, {\"Tag\": \"2020-04-06T00:00:00\", \"Infektionszahlen\": 93082.82979136946, \"Typ\": \"Mit Kontaktverbot\"}, {\"Tag\": \"2020-04-07T00:00:00\", \"Infektionszahlen\": 98209.3098209271, \"Typ\": \"Mit Kontaktverbot\"}, {\"Tag\": \"2020-04-08T00:00:00\", \"Infektionszahlen\": 103616.67783407868, \"Typ\": \"Mit Kontaktverbot\"}, {\"Tag\": \"2020-04-09T00:00:00\", \"Infektionszahlen\": 109320.16015419518, \"Typ\": \"Mit Kontaktverbot\"}, {\"Tag\": \"2020-04-10T00:00:00\", \"Infektionszahlen\": 115335.78995439185, \"Typ\": \"Mit Kontaktverbot\"}, {\"Tag\": \"2020-04-11T00:00:00\", \"Infektionszahlen\": 121680.44791345087, \"Typ\": \"Mit Kontaktverbot\"}, {\"Tag\": \"2020-04-12T00:00:00\", \"Infektionszahlen\": 128371.90468030664, \"Typ\": \"Mit Kontaktverbot\"}, {\"Tag\": \"2020-04-13T00:00:00\", \"Infektionszahlen\": 135428.8651992471, \"Typ\": \"Mit Kontaktverbot\"}, {\"Tag\": \"2020-04-14T00:00:00\", \"Infektionszahlen\": 142871.01494580746, \"Typ\": \"Mit Kontaktverbot\"}, {\"Tag\": \"2020-04-15T00:00:00\", \"Infektionszahlen\": 150719.06812052408, \"Typ\": \"Mit Kontaktverbot\"}, {\"Tag\": \"2020-04-16T00:00:00\", \"Infektionszahlen\": 158994.8178441945, \"Typ\": \"Mit Kontaktverbot\"}, {\"Tag\": \"2020-04-17T00:00:00\", \"Infektionszahlen\": 167721.18839396644, \"Typ\": \"Mit Kontaktverbot\"}, {\"Tag\": \"2020-04-18T00:00:00\", \"Infektionszahlen\": 176922.28951435062, \"Typ\": \"Mit Kontaktverbot\"}, {\"Tag\": \"2020-04-19T00:00:00\", \"Infektionszahlen\": 186623.47283101844, \"Typ\": \"Mit Kontaktverbot\"}, {\"Tag\": \"2020-04-20T00:00:00\", \"Infektionszahlen\": 196851.39038788085, \"Typ\": \"Mit Kontaktverbot\"}, {\"Tag\": \"2020-04-21T00:00:00\", \"Infektionszahlen\": 207634.05531932352, \"Typ\": \"Mit Kontaktverbot\"}, {\"Tag\": \"2020-04-22T00:00:00\", \"Infektionszahlen\": 219000.90465946263, \"Typ\": \"Mit Kontaktverbot\"}, {\"Tag\": \"2020-04-23T00:00:00\", \"Infektionszahlen\": 230982.864278719, \"Typ\": \"Mit Kontaktverbot\"}, {\"Tag\": \"2020-04-24T00:00:00\", \"Infektionszahlen\": 243612.41592474474, \"Typ\": \"Mit Kontaktverbot\"}, {\"Tag\": \"2020-04-25T00:00:00\", \"Infektionszahlen\": 256923.6663295808, \"Typ\": \"Mit Kontaktverbot\"}, {\"Tag\": \"2020-04-26T00:00:00\", \"Infektionszahlen\": 270952.41832770436, \"Typ\": \"Mit Kontaktverbot\"}, {\"Tag\": \"2020-04-27T00:00:00\", \"Infektionszahlen\": 285736.24391013477, \"Typ\": \"Mit Kontaktverbot\"}, {\"Tag\": \"2020-04-28T00:00:00\", \"Infektionszahlen\": 301314.55911779555, \"Typ\": \"Mit Kontaktverbot\"}, {\"Tag\": \"2020-04-29T00:00:00\", \"Infektionszahlen\": 317728.7006526573, \"Typ\": \"Mit Kontaktverbot\"}, {\"Tag\": \"2020-04-30T00:00:00\", \"Infektionszahlen\": 335022.0040575759, \"Typ\": \"Mit Kontaktverbot\"}, {\"Tag\": \"2020-05-01T00:00:00\", \"Infektionszahlen\": null, \"Typ\": \"Mit Kontaktverbot\"}, {\"Tag\": \"2020-03-01T00:00:00\", \"Infektionszahlen\": 130.0, \"Typ\": \"Fallzahlen\"}, {\"Tag\": \"2020-03-02T00:00:00\", \"Infektionszahlen\": 165.0, \"Typ\": \"Fallzahlen\"}, {\"Tag\": \"2020-03-03T00:00:00\", \"Infektionszahlen\": 203.0, \"Typ\": \"Fallzahlen\"}, {\"Tag\": \"2020-03-04T00:00:00\", \"Infektionszahlen\": 262.0, \"Typ\": \"Fallzahlen\"}, {\"Tag\": \"2020-03-05T00:00:00\", \"Infektionszahlen\": 545.0, \"Typ\": \"Fallzahlen\"}, {\"Tag\": \"2020-03-06T00:00:00\", \"Infektionszahlen\": 670.0, \"Typ\": \"Fallzahlen\"}, {\"Tag\": \"2020-03-07T00:00:00\", \"Infektionszahlen\": 800.0, \"Typ\": \"Fallzahlen\"}, {\"Tag\": \"2020-03-08T00:00:00\", \"Infektionszahlen\": 1040.0, \"Typ\": \"Fallzahlen\"}, {\"Tag\": \"2020-03-09T00:00:00\", \"Infektionszahlen\": 1224.0, \"Typ\": \"Fallzahlen\"}, {\"Tag\": \"2020-03-10T00:00:00\", \"Infektionszahlen\": 1565.0, \"Typ\": \"Fallzahlen\"}, {\"Tag\": \"2020-03-11T00:00:00\", \"Infektionszahlen\": 1966.0, \"Typ\": \"Fallzahlen\"}, {\"Tag\": \"2020-03-12T00:00:00\", \"Infektionszahlen\": 2745.0, \"Typ\": \"Fallzahlen\"}, {\"Tag\": \"2020-03-13T00:00:00\", \"Infektionszahlen\": 3675.0, \"Typ\": \"Fallzahlen\"}, {\"Tag\": \"2020-03-14T00:00:00\", \"Infektionszahlen\": 4599.0, \"Typ\": \"Fallzahlen\"}, {\"Tag\": \"2020-03-15T00:00:00\", \"Infektionszahlen\": 5813.0, \"Typ\": \"Fallzahlen\"}, {\"Tag\": \"2020-03-16T00:00:00\", \"Infektionszahlen\": 7272.0, \"Typ\": \"Fallzahlen\"}, {\"Tag\": \"2020-03-17T00:00:00\", \"Infektionszahlen\": 9367.0, \"Typ\": \"Fallzahlen\"}, {\"Tag\": \"2020-03-18T00:00:00\", \"Infektionszahlen\": 12327.0, \"Typ\": \"Fallzahlen\"}, {\"Tag\": \"2020-03-19T00:00:00\", \"Infektionszahlen\": 15320.0, \"Typ\": \"Fallzahlen\"}, {\"Tag\": \"2020-03-20T00:00:00\", \"Infektionszahlen\": 19848.0, \"Typ\": \"Fallzahlen\"}, {\"Tag\": \"2020-03-21T00:00:00\", \"Infektionszahlen\": 22364.0, \"Typ\": \"Fallzahlen\"}, {\"Tag\": \"2020-03-22T00:00:00\", \"Infektionszahlen\": 24873.0, \"Typ\": \"Fallzahlen\"}, {\"Tag\": \"2020-03-23T00:00:00\", \"Infektionszahlen\": 29056.0, \"Typ\": \"Fallzahlen\"}, {\"Tag\": \"2020-03-24T00:00:00\", \"Infektionszahlen\": 32991.0, \"Typ\": \"Fallzahlen\"}, {\"Tag\": \"2020-03-25T00:00:00\", \"Infektionszahlen\": 37323.0, \"Typ\": \"Fallzahlen\"}, {\"Tag\": \"2020-03-26T00:00:00\", \"Infektionszahlen\": 43938.0, \"Typ\": \"Fallzahlen\"}, {\"Tag\": \"2020-03-27T00:00:00\", \"Infektionszahlen\": 50871.0, \"Typ\": \"Fallzahlen\"}, {\"Tag\": \"2020-03-28T00:00:00\", \"Infektionszahlen\": 57695.0, \"Typ\": \"Fallzahlen\"}, {\"Tag\": \"2020-03-29T00:00:00\", \"Infektionszahlen\": 62435.0, \"Typ\": \"Fallzahlen\"}, {\"Tag\": \"2020-03-30T00:00:00\", \"Infektionszahlen\": 66885.0, \"Typ\": \"Fallzahlen\"}, {\"Tag\": \"2020-03-31T00:00:00\", \"Infektionszahlen\": 71808.0, \"Typ\": \"Fallzahlen\"}, {\"Tag\": \"2020-04-01T00:00:00\", \"Infektionszahlen\": 77981.0, \"Typ\": \"Fallzahlen\"}, {\"Tag\": \"2020-04-02T00:00:00\", \"Infektionszahlen\": 84794.0, \"Typ\": \"Fallzahlen\"}, {\"Tag\": \"2020-04-03T00:00:00\", \"Infektionszahlen\": 91159.0, \"Typ\": \"Fallzahlen\"}, {\"Tag\": \"2020-04-04T00:00:00\", \"Infektionszahlen\": 96092.0, \"Typ\": \"Fallzahlen\"}, {\"Tag\": \"2020-04-05T00:00:00\", \"Infektionszahlen\": 100123.0, \"Typ\": \"Fallzahlen\"}, {\"Tag\": \"2020-04-06T00:00:00\", \"Infektionszahlen\": 103375.0, \"Typ\": \"Fallzahlen\"}, {\"Tag\": \"2020-04-07T00:00:00\", \"Infektionszahlen\": 107663.0, \"Typ\": \"Fallzahlen\"}, {\"Tag\": \"2020-04-08T00:00:00\", \"Infektionszahlen\": 113296.0, \"Typ\": \"Fallzahlen\"}, {\"Tag\": \"2020-04-09T00:00:00\", \"Infektionszahlen\": 118235.0, \"Typ\": \"Fallzahlen\"}, {\"Tag\": \"2020-04-10T00:00:00\", \"Infektionszahlen\": 122171.0, \"Typ\": \"Fallzahlen\"}, {\"Tag\": \"2020-04-11T00:00:00\", \"Infektionszahlen\": 125452.0, \"Typ\": \"Fallzahlen\"}, {\"Tag\": \"2020-04-12T00:00:00\", \"Infektionszahlen\": 127854.0, \"Typ\": \"Fallzahlen\"}, {\"Tag\": \"2020-04-13T00:00:00\", \"Infektionszahlen\": 130072.0, \"Typ\": \"Fallzahlen\"}, {\"Tag\": \"2020-04-14T00:00:00\", \"Infektionszahlen\": 132210.0, \"Typ\": \"Fallzahlen\"}, {\"Tag\": \"2020-04-15T00:00:00\", \"Infektionszahlen\": 134753.0, \"Typ\": \"Fallzahlen\"}, {\"Tag\": \"2020-04-16T00:00:00\", \"Infektionszahlen\": 137698.0, \"Typ\": \"Fallzahlen\"}]}}, {\"mode\": \"vega-lite\"});\n",
       "</script>"
      ],
      "text/plain": [
       "alt.LayerChart(...)"
      ]
     },
     "execution_count": 8,
     "metadata": {},
     "output_type": "execute_result"
    }
   ],
   "source": [
    "data = pd.read_csv(\"corona_infections.csv\", header=0, names=[\"day\", \"cases\"])\n",
    "data[\"day\"] = [dt.datetime.strptime(d + ' 2020', \"%b %d %Y\") for d in data[\"day\"]]\n",
    "md1 = dt.datetime(year=2020, month=3, day=20)\n",
    "md2 = dt.datetime(year=2020, month=3, day=28)\n",
    "c0 = np.array(data[data[\"day\"] <= md1][\"cases\"])\n",
    "d0 = np.array([d.toordinal() for d in data[data[\"day\"] <= md1][\"day\"]])\n",
    "c1 = np.array(data[(md1 <= data[\"day\"])][(data[\"day\"] <= md2)][\"cases\"])\n",
    "d1 = np.array([d.toordinal() for d in data[md1 <= data[\"day\"]][data[\"day\"] <= md2][\"day\"]])\n",
    "c2 = np.array(data[md2 <= data[\"day\"]][\"cases\"])\n",
    "d2 = np.array([d.toordinal() for d in data[md2 <= data[\"day\"]][\"day\"]])\n",
    "par0, _ = curve_fit(\n",
    "    corona_curve, \n",
    "    xdata=d0, \n",
    "    ydata=c0, \n",
    "    p0=[c0[0], dt.datetime(year=2020, month=3, day=1).toordinal(), 8e-9, 5.6e7],\n",
    "    bounds=(\n",
    "        [0, d0[0], 1e-11, c0[-1]], \n",
    "        [c0[-1], dt.datetime(year=2021, month=6, day=1).toordinal(), 1e-8, 8.35e7])\n",
    ")\n",
    "par1, _ = curve_fit(\n",
    "    corona_curve, \n",
    "    xdata=d1, \n",
    "    ydata=c1, \n",
    "    p0=[c1[0], dt.datetime(year=2020, month=3, day=20).toordinal(), 8e-9, 5.6e7],\n",
    "    bounds=(\n",
    "        [0, d1[0], 1e-11, c1[-1]], \n",
    "        [c1[-1], dt.datetime(year=2021, month=6, day=1).toordinal(), 1e-8, 8.35e7])\n",
    ")\n",
    "par2, _ = curve_fit(\n",
    "    corona_curve, \n",
    "    xdata=d2, \n",
    "    ydata=c2, \n",
    "    p0=[c2[0], dt.datetime(year=2020, month=3, day=28).toordinal(), 8e-9, 5.6e7],\n",
    "    bounds=(\n",
    "        [0, d2[0], 1e-11, c2[-1]], \n",
    "        [c2[-1], dt.datetime(year=2021, month=6, day=1).toordinal(), 1e-8, 8.35e7])\n",
    ")\n",
    "print(par0, \"\\n\", par1, \"\\n\", par2)\n",
    "data = data[data[\"day\"] >= dt.datetime(year=2020, month=3, day=1)]\n",
    "data = data.rename(columns={\"day\": \"Tag\", \"cases\": \"Infektionszahlen\"})\n",
    "data[\"Typ\"] = [\"Fallzahlen\" for d in data[\"Tag\"]]\n",
    "data[\"Typ\"] = data[\"Typ\"].astype(str)\n",
    "data_count = len(data) + 5\n",
    "for par, t in [(par0, \"Ungebremste Ausbreitung\"), \n",
    "               (par1, \"Mit Ausgangsbeschränkungen\"), \n",
    "               (par2, \"Mit Kontaktverbot\")]:\n",
    "    for i in range(data_count):\n",
    "        curve_value = corona_curve((list(data[\"Tag\"])[0] + dt.timedelta(days=i)).toordinal(), *par)\n",
    "        data = data.append(pd.DataFrame(\n",
    "            [[list(data[\"Tag\"])[0] + dt.timedelta(days=i), \n",
    "              curve_value if curve_value < 350000 else None,\n",
    "              t]],\n",
    "            columns=(\"Tag\", \"Infektionszahlen\", \"Typ\")\n",
    "        ), ignore_index=True)\n",
    "data = data.tail(len(data)-data_count+15).append(data.head(data_count-15), ignore_index=True)\n",
    "line = alt.Chart(data).mark_line(point=True).encode(\n",
    "    alt.X(\"monthdate(Tag)\", title=\"Tag\"),\n",
    "    alt.Y(\"Infektionszahlen:Q\", title=\"Infektionszahlen\"),\n",
    "    color=alt.Color(\"Typ:N\", \n",
    "                    scale=alt.Scale(scheme=\"set1\"),\n",
    "                    legend=alt.Legend(\n",
    "        orient=\"none\", legendX=20, legendY=20,\n",
    "        fillColor=\"white\", strokeColor=\"black\", cornerRadius=7, padding=6,\n",
    "        title=\"Prognosen nach Maßnahmen\"))\n",
    ")\n",
    "nearest = alt.selection(type='single', nearest=True, on='mouseover',\n",
    "                        fields=['Tag'], empty='none')\n",
    "selectors = alt.Chart(data).mark_point().encode(\n",
    "    alt.X(\"monthdate(Tag)\", title=\"Tag\"),\n",
    "    opacity=alt.value(0),\n",
    ").add_selection(nearest)\n",
    "points = line.mark_point().encode(\n",
    "    opacity=alt.condition(nearest, alt.value(1), alt.value(0))\n",
    ")\n",
    "text = line.mark_text(align='left', dx=5, dy=5).encode(\n",
    "    text=alt.condition(nearest, 'Infektionszahlen:Q', alt.value(' '))\n",
    ")\n",
    "rules = alt.Chart(data).mark_rule(color='gray').encode(\n",
    "    alt.X(\"monthdate(Tag)\", title=\"Tag\"),\n",
    ").transform_filter(nearest)\n",
    "alt.layer(\n",
    "    line, selectors, points, rules, text\n",
    ").properties(width=850, height=400)"
   ]
  },
  {
   "cell_type": "code",
   "execution_count": null,
   "metadata": {},
   "outputs": [],
   "source": []
  }
 ],
 "metadata": {
  "kernelspec": {
   "display_name": "Python 3",
   "language": "python",
   "name": "python3"
  },
  "language_info": {
   "codemirror_mode": {
    "name": "ipython",
    "version": 3
   },
   "file_extension": ".py",
   "mimetype": "text/x-python",
   "name": "python",
   "nbconvert_exporter": "python",
   "pygments_lexer": "ipython3",
   "version": "3.8.2"
  }
 },
 "nbformat": 4,
 "nbformat_minor": 4
}
